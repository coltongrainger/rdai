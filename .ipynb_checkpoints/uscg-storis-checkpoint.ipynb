{
 "cells": [
  {
   "cell_type": "markdown",
   "metadata": {},
   "source": [
    "## Preliminaries\n",
    "\n",
    "*We'll set up a working directory and download a small sample of images to ingest.*"
   ]
  },
  {
   "cell_type": "code",
   "execution_count": 50,
   "metadata": {
    "attributes": {
     "classes": [],
     "id": "",
     "n": "5"
    }
   },
   "outputs": [],
   "source": [
    "import os\n",
    "\n",
    "# We create a working directory for this example.\n",
    "os.makedirs(\"uscg-storis\", exist_ok=True)\n",
    "\n",
    "# We create a \"data\" subdirectory for the images and the metadata tag files.\n",
    "os.makedirs(\"uscg-storis/data\", exist_ok=True)\n",
    "data = \"uscg-storis/data\"\n",
    "\n",
    "# We create an \"out\" subdirectory for the processed images and the metadata catalog.\n",
    "os.makedirs(\"uscg-storis/out\", exist_ok=True)\n",
    "out  = \"uscg-storis/out\"  "
   ]
  },
  {
   "cell_type": "markdown",
   "metadata": {},
   "source": [
    "Let's download a sample collection of 20 images from the logbooks of the USCG Storis."
   ]
  },
  {
   "cell_type": "code",
   "execution_count": 51,
   "metadata": {
    "attributes": {
     "classes": [],
     "id": "",
     "n": "3"
    }
   },
   "outputs": [
    {
     "name": "stderr",
     "output_type": "stream",
     "text": [
      "DEBUG:urllib3.connectionpool:Starting new HTTPS connection (1): catalog.archives.gov:443\n"
     ]
    },
    {
     "name": "stdout",
     "output_type": "stream",
     "text": [
      "send: b'GET /api/v1/?naIds=38547962 HTTP/1.1\\r\\nHost: catalog.archives.gov\\r\\nUser-Agent: python-requests/2.21.0\\r\\nAccept-Encoding: gzip, deflate\\r\\nAccept: */*\\r\\nConnection: keep-alive\\r\\n\\r\\n'\n"
     ]
    },
    {
     "name": "stderr",
     "output_type": "stream",
     "text": [
      "DEBUG:urllib3.connectionpool:https://catalog.archives.gov:443 \"GET /api/v1/?naIds=38547962 HTTP/1.1\" 200 None\n"
     ]
    },
    {
     "name": "stdout",
     "output_type": "stream",
     "text": [
      "reply: 'HTTP/1.1 200 OK\\r\\n'\n",
      "header: Access-Control-Allow-Credentials: true\n",
      "header: Access-Control-Allow-Methods: DELETE, HEAD, GET, OPTION, POST, PUT\n",
      "header: Access-Control-Expose-Headers: JSESSIONID\n",
      "header: Access-Control-Max-Age: 3600\n",
      "header: BALANCER_NAME: (null)\n",
      "header: BALANCER_ROUTE_CHANGED: 1\n",
      "header: BALANCER_SESSION_ROUTE: (null)\n",
      "header: BALANCER_SESSION_STICKY: (null)\n",
      "header: BALANCER_WORKER_NAME: ajp://pa04.aws.nac.nara.gov:8009/OpaAPI\n",
      "header: BALANCER_WORKER_ROUTE: pa04\n",
      "header: Cache-Control: no-store, no-cache\n",
      "header: Content-Type: application/json;charset=UTF-8\n",
      "header: Date: Thu, 19 Dec 2019 20:28:49 GMT\n",
      "header: hnweb: pw04\n",
      "header: Pragma: no-cache\n",
      "header: Server: Apache\n",
      "header: Strict-Transport-Security: max-age=31536000; includeSubDomains; preload\n",
      "header: transfer-encoding: chunked\n",
      "header: Connection: keep-alive\n"
     ]
    },
    {
     "name": "stderr",
     "output_type": "stream",
     "text": [
      "DEBUG:urllib3.connectionpool:Starting new HTTPS connection (1): catalog.archives.gov:443\n"
     ]
    },
    {
     "name": "stdout",
     "output_type": "stream",
     "text": [
      "send: b'GET /OpaAPI/media/38547962/content/dc-metro/rg-026/559642/2017-01/storis-wmec-38-1957-logbooks/storis-wmec-38-1957-logbooks_0126.JPG HTTP/1.1\\r\\nHost: catalog.archives.gov\\r\\nUser-Agent: python-requests/2.21.0\\r\\nAccept-Encoding: gzip, deflate\\r\\nAccept: */*\\r\\nConnection: keep-alive\\r\\n\\r\\n'\n"
     ]
    },
    {
     "name": "stderr",
     "output_type": "stream",
     "text": [
      "DEBUG:urllib3.connectionpool:https://catalog.archives.gov:443 \"GET /OpaAPI/media/38547962/content/dc-metro/rg-026/559642/2017-01/storis-wmec-38-1957-logbooks/storis-wmec-38-1957-logbooks_0126.JPG HTTP/1.1\" 200 None\n"
     ]
    },
    {
     "name": "stdout",
     "output_type": "stream",
     "text": [
      "reply: 'HTTP/1.1 200 OK\\r\\n'\n",
      "header: Access-Control-Allow-Credentials: true\n",
      "header: Access-Control-Allow-Methods: DELETE, HEAD, GET, OPTION, POST, PUT\n",
      "header: Access-Control-Expose-Headers: JSESSIONID\n",
      "header: Access-Control-Max-Age: 3600\n",
      "header: BALANCER_NAME: (null)\n",
      "header: BALANCER_ROUTE_CHANGED: 1\n",
      "header: BALANCER_SESSION_ROUTE: (null)\n",
      "header: BALANCER_SESSION_STICKY: (null)\n",
      "header: BALANCER_WORKER_NAME: ajp://pa01.aws.nac.nara.gov:8009/OpaAPI\n",
      "header: BALANCER_WORKER_ROUTE: pa01\n",
      "header: Cache-Control: no-store, no-cache\n",
      "header: Content-Type: image/jpeg;charset=UTF-8\n",
      "header: Date: Thu, 19 Dec 2019 20:28:51 GMT\n",
      "header: hnweb: pw04\n",
      "header: Pragma: no-cache\n",
      "header: Server: Apache\n",
      "header: Strict-Transport-Security: max-age=31536000; includeSubDomains; preload\n",
      "header: transfer-encoding: chunked\n",
      "header: Connection: keep-alive\n"
     ]
    },
    {
     "name": "stderr",
     "output_type": "stream",
     "text": [
      "DEBUG:urllib3.connectionpool:Starting new HTTPS connection (1): catalog.archives.gov:443\n"
     ]
    },
    {
     "name": "stdout",
     "output_type": "stream",
     "text": [
      "send: b'GET /OpaAPI/media/38547962/content/dc-metro/rg-026/559642/2017-01/storis-wmec-38-1957-logbooks/storis-wmec-38-1957-logbooks_0127.JPG HTTP/1.1\\r\\nHost: catalog.archives.gov\\r\\nUser-Agent: python-requests/2.21.0\\r\\nAccept-Encoding: gzip, deflate\\r\\nAccept: */*\\r\\nConnection: keep-alive\\r\\n\\r\\n'\n"
     ]
    },
    {
     "name": "stderr",
     "output_type": "stream",
     "text": [
      "DEBUG:urllib3.connectionpool:https://catalog.archives.gov:443 \"GET /OpaAPI/media/38547962/content/dc-metro/rg-026/559642/2017-01/storis-wmec-38-1957-logbooks/storis-wmec-38-1957-logbooks_0127.JPG HTTP/1.1\" 200 None\n"
     ]
    },
    {
     "name": "stdout",
     "output_type": "stream",
     "text": [
      "reply: 'HTTP/1.1 200 OK\\r\\n'\n",
      "header: Access-Control-Allow-Credentials: true\n",
      "header: Access-Control-Allow-Methods: DELETE, HEAD, GET, OPTION, POST, PUT\n",
      "header: Access-Control-Expose-Headers: JSESSIONID\n",
      "header: Access-Control-Max-Age: 3600\n",
      "header: BALANCER_NAME: (null)\n",
      "header: BALANCER_ROUTE_CHANGED: 1\n",
      "header: BALANCER_SESSION_ROUTE: (null)\n",
      "header: BALANCER_SESSION_STICKY: (null)\n",
      "header: BALANCER_WORKER_NAME: ajp://pa04.aws.nac.nara.gov:8009/OpaAPI\n",
      "header: BALANCER_WORKER_ROUTE: pa04\n",
      "header: Cache-Control: no-store, no-cache\n",
      "header: Content-Type: image/jpeg;charset=UTF-8\n",
      "header: Date: Thu, 19 Dec 2019 20:28:53 GMT\n",
      "header: hnweb: pw01\n",
      "header: Pragma: no-cache\n",
      "header: Server: Apache/2.4.6 (Red Hat)\n",
      "header: Strict-Transport-Security: max-age=31536000; includeSubDomains; preload\n",
      "header: transfer-encoding: chunked\n",
      "header: Connection: keep-alive\n"
     ]
    },
    {
     "name": "stderr",
     "output_type": "stream",
     "text": [
      "DEBUG:urllib3.connectionpool:Starting new HTTPS connection (1): catalog.archives.gov:443\n"
     ]
    },
    {
     "name": "stdout",
     "output_type": "stream",
     "text": [
      "send: b'GET /OpaAPI/media/38547962/content/dc-metro/rg-026/559642/2017-01/storis-wmec-38-1957-logbooks/storis-wmec-38-1957-logbooks_0128.JPG HTTP/1.1\\r\\nHost: catalog.archives.gov\\r\\nUser-Agent: python-requests/2.21.0\\r\\nAccept-Encoding: gzip, deflate\\r\\nAccept: */*\\r\\nConnection: keep-alive\\r\\n\\r\\n'\n"
     ]
    },
    {
     "name": "stderr",
     "output_type": "stream",
     "text": [
      "DEBUG:urllib3.connectionpool:https://catalog.archives.gov:443 \"GET /OpaAPI/media/38547962/content/dc-metro/rg-026/559642/2017-01/storis-wmec-38-1957-logbooks/storis-wmec-38-1957-logbooks_0128.JPG HTTP/1.1\" 200 None\n"
     ]
    },
    {
     "name": "stdout",
     "output_type": "stream",
     "text": [
      "reply: 'HTTP/1.1 200 OK\\r\\n'\n",
      "header: Access-Control-Allow-Credentials: true\n",
      "header: Access-Control-Allow-Methods: DELETE, HEAD, GET, OPTION, POST, PUT\n",
      "header: Access-Control-Expose-Headers: JSESSIONID\n",
      "header: Access-Control-Max-Age: 3600\n",
      "header: BALANCER_NAME: (null)\n",
      "header: BALANCER_ROUTE_CHANGED: 1\n",
      "header: BALANCER_SESSION_ROUTE: (null)\n",
      "header: BALANCER_SESSION_STICKY: (null)\n",
      "header: BALANCER_WORKER_NAME: ajp://pa04.aws.nac.nara.gov:8009/OpaAPI\n",
      "header: BALANCER_WORKER_ROUTE: pa04\n",
      "header: Cache-Control: no-store, no-cache\n",
      "header: Content-Type: image/jpeg;charset=UTF-8\n",
      "header: Date: Thu, 19 Dec 2019 20:28:55 GMT\n",
      "header: hnweb: pw04\n",
      "header: Pragma: no-cache\n",
      "header: Server: Apache\n",
      "header: Strict-Transport-Security: max-age=31536000; includeSubDomains; preload\n",
      "header: transfer-encoding: chunked\n",
      "header: Connection: keep-alive\n"
     ]
    },
    {
     "name": "stderr",
     "output_type": "stream",
     "text": [
      "DEBUG:urllib3.connectionpool:Starting new HTTPS connection (1): catalog.archives.gov:443\n"
     ]
    },
    {
     "name": "stdout",
     "output_type": "stream",
     "text": [
      "send: b'GET /OpaAPI/media/38547962/content/dc-metro/rg-026/559642/2017-01/storis-wmec-38-1957-logbooks/storis-wmec-38-1957-logbooks_0129.JPG HTTP/1.1\\r\\nHost: catalog.archives.gov\\r\\nUser-Agent: python-requests/2.21.0\\r\\nAccept-Encoding: gzip, deflate\\r\\nAccept: */*\\r\\nConnection: keep-alive\\r\\n\\r\\n'\n"
     ]
    },
    {
     "name": "stderr",
     "output_type": "stream",
     "text": [
      "DEBUG:urllib3.connectionpool:https://catalog.archives.gov:443 \"GET /OpaAPI/media/38547962/content/dc-metro/rg-026/559642/2017-01/storis-wmec-38-1957-logbooks/storis-wmec-38-1957-logbooks_0129.JPG HTTP/1.1\" 200 None\n"
     ]
    },
    {
     "name": "stdout",
     "output_type": "stream",
     "text": [
      "reply: 'HTTP/1.1 200 OK\\r\\n'\n",
      "header: Access-Control-Allow-Credentials: true\n",
      "header: Access-Control-Allow-Methods: DELETE, HEAD, GET, OPTION, POST, PUT\n",
      "header: Access-Control-Expose-Headers: JSESSIONID\n",
      "header: Access-Control-Max-Age: 3600\n",
      "header: BALANCER_NAME: (null)\n",
      "header: BALANCER_ROUTE_CHANGED: 1\n",
      "header: BALANCER_SESSION_ROUTE: (null)\n",
      "header: BALANCER_SESSION_STICKY: (null)\n",
      "header: BALANCER_WORKER_NAME: ajp://pa04.aws.nac.nara.gov:8009/OpaAPI\n",
      "header: BALANCER_WORKER_ROUTE: pa04\n",
      "header: Cache-Control: no-store, no-cache\n",
      "header: Content-Type: image/jpeg;charset=UTF-8\n",
      "header: Date: Thu, 19 Dec 2019 20:28:56 GMT\n",
      "header: hnweb: pw01\n",
      "header: Pragma: no-cache\n",
      "header: Server: Apache/2.4.6 (Red Hat)\n",
      "header: Strict-Transport-Security: max-age=31536000; includeSubDomains; preload\n",
      "header: transfer-encoding: chunked\n",
      "header: Connection: keep-alive\n"
     ]
    },
    {
     "name": "stderr",
     "output_type": "stream",
     "text": [
      "DEBUG:urllib3.connectionpool:Starting new HTTPS connection (1): catalog.archives.gov:443\n"
     ]
    },
    {
     "name": "stdout",
     "output_type": "stream",
     "text": [
      "send: b'GET /OpaAPI/media/38547962/content/dc-metro/rg-026/559642/2017-01/storis-wmec-38-1957-logbooks/storis-wmec-38-1957-logbooks_0130.JPG HTTP/1.1\\r\\nHost: catalog.archives.gov\\r\\nUser-Agent: python-requests/2.21.0\\r\\nAccept-Encoding: gzip, deflate\\r\\nAccept: */*\\r\\nConnection: keep-alive\\r\\n\\r\\n'\n"
     ]
    },
    {
     "name": "stderr",
     "output_type": "stream",
     "text": [
      "DEBUG:urllib3.connectionpool:https://catalog.archives.gov:443 \"GET /OpaAPI/media/38547962/content/dc-metro/rg-026/559642/2017-01/storis-wmec-38-1957-logbooks/storis-wmec-38-1957-logbooks_0130.JPG HTTP/1.1\" 200 None\n"
     ]
    },
    {
     "name": "stdout",
     "output_type": "stream",
     "text": [
      "reply: 'HTTP/1.1 200 OK\\r\\n'\n",
      "header: Access-Control-Allow-Credentials: true\n",
      "header: Access-Control-Allow-Methods: DELETE, HEAD, GET, OPTION, POST, PUT\n",
      "header: Access-Control-Expose-Headers: JSESSIONID\n",
      "header: Access-Control-Max-Age: 3600\n",
      "header: BALANCER_NAME: (null)\n",
      "header: BALANCER_ROUTE_CHANGED: 1\n",
      "header: BALANCER_SESSION_ROUTE: (null)\n",
      "header: BALANCER_SESSION_STICKY: (null)\n",
      "header: BALANCER_WORKER_NAME: ajp://pa02.aws.nac.nara.gov:8009/OpaAPI\n",
      "header: BALANCER_WORKER_ROUTE: pa02\n",
      "header: Cache-Control: no-store, no-cache\n",
      "header: Content-Type: image/jpeg;charset=UTF-8\n",
      "header: Date: Thu, 19 Dec 2019 20:28:58 GMT\n",
      "header: hnweb: pw04\n",
      "header: Pragma: no-cache\n",
      "header: Server: Apache\n",
      "header: Strict-Transport-Security: max-age=31536000; includeSubDomains; preload\n",
      "header: transfer-encoding: chunked\n",
      "header: Connection: keep-alive\n"
     ]
    },
    {
     "name": "stderr",
     "output_type": "stream",
     "text": [
      "DEBUG:urllib3.connectionpool:Starting new HTTPS connection (1): catalog.archives.gov:443\n"
     ]
    },
    {
     "name": "stdout",
     "output_type": "stream",
     "text": [
      "send: b'GET /OpaAPI/media/38547962/content/dc-metro/rg-026/559642/2017-01/storis-wmec-38-1957-logbooks/storis-wmec-38-1957-logbooks_0131.JPG HTTP/1.1\\r\\nHost: catalog.archives.gov\\r\\nUser-Agent: python-requests/2.21.0\\r\\nAccept-Encoding: gzip, deflate\\r\\nAccept: */*\\r\\nConnection: keep-alive\\r\\n\\r\\n'\n"
     ]
    },
    {
     "name": "stderr",
     "output_type": "stream",
     "text": [
      "DEBUG:urllib3.connectionpool:https://catalog.archives.gov:443 \"GET /OpaAPI/media/38547962/content/dc-metro/rg-026/559642/2017-01/storis-wmec-38-1957-logbooks/storis-wmec-38-1957-logbooks_0131.JPG HTTP/1.1\" 200 None\n"
     ]
    },
    {
     "name": "stdout",
     "output_type": "stream",
     "text": [
      "reply: 'HTTP/1.1 200 OK\\r\\n'\n",
      "header: Access-Control-Allow-Credentials: true\n",
      "header: Access-Control-Allow-Methods: DELETE, HEAD, GET, OPTION, POST, PUT\n",
      "header: Access-Control-Expose-Headers: JSESSIONID\n",
      "header: Access-Control-Max-Age: 3600\n",
      "header: BALANCER_NAME: (null)\n",
      "header: BALANCER_ROUTE_CHANGED: 1\n",
      "header: BALANCER_SESSION_ROUTE: (null)\n",
      "header: BALANCER_SESSION_STICKY: (null)\n",
      "header: BALANCER_WORKER_NAME: ajp://pa02.aws.nac.nara.gov:8009/OpaAPI\n",
      "header: BALANCER_WORKER_ROUTE: pa02\n",
      "header: Cache-Control: no-store, no-cache\n",
      "header: Content-Type: image/jpeg;charset=UTF-8\n",
      "header: Date: Thu, 19 Dec 2019 20:28:59 GMT\n",
      "header: hnweb: pw03\n",
      "header: Pragma: no-cache\n",
      "header: Server: Apache/2.4.6 (Red Hat)\n",
      "header: Strict-Transport-Security: max-age=31536000; includeSubDomains; preload\n",
      "header: transfer-encoding: chunked\n",
      "header: Connection: keep-alive\n"
     ]
    },
    {
     "name": "stderr",
     "output_type": "stream",
     "text": [
      "DEBUG:urllib3.connectionpool:Starting new HTTPS connection (1): catalog.archives.gov:443\n"
     ]
    },
    {
     "name": "stdout",
     "output_type": "stream",
     "text": [
      "send: b'GET /OpaAPI/media/38547962/content/dc-metro/rg-026/559642/2017-01/storis-wmec-38-1957-logbooks/storis-wmec-38-1957-logbooks_0132.JPG HTTP/1.1\\r\\nHost: catalog.archives.gov\\r\\nUser-Agent: python-requests/2.21.0\\r\\nAccept-Encoding: gzip, deflate\\r\\nAccept: */*\\r\\nConnection: keep-alive\\r\\n\\r\\n'\n"
     ]
    },
    {
     "name": "stderr",
     "output_type": "stream",
     "text": [
      "DEBUG:urllib3.connectionpool:https://catalog.archives.gov:443 \"GET /OpaAPI/media/38547962/content/dc-metro/rg-026/559642/2017-01/storis-wmec-38-1957-logbooks/storis-wmec-38-1957-logbooks_0132.JPG HTTP/1.1\" 200 None\n"
     ]
    },
    {
     "name": "stdout",
     "output_type": "stream",
     "text": [
      "reply: 'HTTP/1.1 200 OK\\r\\n'\n",
      "header: Access-Control-Allow-Credentials: true\n",
      "header: Access-Control-Allow-Methods: DELETE, HEAD, GET, OPTION, POST, PUT\n",
      "header: Access-Control-Expose-Headers: JSESSIONID\n",
      "header: Access-Control-Max-Age: 3600\n",
      "header: BALANCER_NAME: (null)\n",
      "header: BALANCER_ROUTE_CHANGED: 1\n",
      "header: BALANCER_SESSION_ROUTE: (null)\n",
      "header: BALANCER_SESSION_STICKY: (null)\n",
      "header: BALANCER_WORKER_NAME: ajp://pa04.aws.nac.nara.gov:8009/OpaAPI\n",
      "header: BALANCER_WORKER_ROUTE: pa04\n",
      "header: Cache-Control: no-store, no-cache\n",
      "header: Content-Type: image/jpeg;charset=UTF-8\n",
      "header: Date: Thu, 19 Dec 2019 20:29:01 GMT\n",
      "header: hnweb: pw04\n",
      "header: Pragma: no-cache\n",
      "header: Server: Apache\n",
      "header: Strict-Transport-Security: max-age=31536000; includeSubDomains; preload\n",
      "header: transfer-encoding: chunked\n",
      "header: Connection: keep-alive\n"
     ]
    },
    {
     "name": "stderr",
     "output_type": "stream",
     "text": [
      "DEBUG:urllib3.connectionpool:Starting new HTTPS connection (1): catalog.archives.gov:443\n"
     ]
    },
    {
     "name": "stdout",
     "output_type": "stream",
     "text": [
      "send: b'GET /OpaAPI/media/38547962/content/dc-metro/rg-026/559642/2017-01/storis-wmec-38-1957-logbooks/storis-wmec-38-1957-logbooks_0133.JPG HTTP/1.1\\r\\nHost: catalog.archives.gov\\r\\nUser-Agent: python-requests/2.21.0\\r\\nAccept-Encoding: gzip, deflate\\r\\nAccept: */*\\r\\nConnection: keep-alive\\r\\n\\r\\n'\n"
     ]
    },
    {
     "name": "stderr",
     "output_type": "stream",
     "text": [
      "DEBUG:urllib3.connectionpool:https://catalog.archives.gov:443 \"GET /OpaAPI/media/38547962/content/dc-metro/rg-026/559642/2017-01/storis-wmec-38-1957-logbooks/storis-wmec-38-1957-logbooks_0133.JPG HTTP/1.1\" 200 None\n"
     ]
    },
    {
     "name": "stdout",
     "output_type": "stream",
     "text": [
      "reply: 'HTTP/1.1 200 OK\\r\\n'\n",
      "header: Access-Control-Allow-Credentials: true\n",
      "header: Access-Control-Allow-Methods: DELETE, HEAD, GET, OPTION, POST, PUT\n",
      "header: Access-Control-Expose-Headers: JSESSIONID\n",
      "header: Access-Control-Max-Age: 3600\n",
      "header: BALANCER_NAME: (null)\n",
      "header: BALANCER_ROUTE_CHANGED: 1\n",
      "header: BALANCER_SESSION_ROUTE: (null)\n",
      "header: BALANCER_SESSION_STICKY: (null)\n",
      "header: BALANCER_WORKER_NAME: ajp://pa02.aws.nac.nara.gov:8009/OpaAPI\n",
      "header: BALANCER_WORKER_ROUTE: pa02\n",
      "header: Cache-Control: no-store, no-cache\n",
      "header: Content-Type: image/jpeg;charset=UTF-8\n",
      "header: Date: Thu, 19 Dec 2019 20:29:03 GMT\n",
      "header: hnweb: pw01\n",
      "header: Pragma: no-cache\n",
      "header: Server: Apache/2.4.6 (Red Hat)\n",
      "header: Strict-Transport-Security: max-age=31536000; includeSubDomains; preload\n",
      "header: transfer-encoding: chunked\n",
      "header: Connection: keep-alive\n"
     ]
    },
    {
     "name": "stderr",
     "output_type": "stream",
     "text": [
      "DEBUG:urllib3.connectionpool:Starting new HTTPS connection (1): catalog.archives.gov:443\n"
     ]
    },
    {
     "name": "stdout",
     "output_type": "stream",
     "text": [
      "send: b'GET /OpaAPI/media/38547962/content/dc-metro/rg-026/559642/2017-01/storis-wmec-38-1957-logbooks/storis-wmec-38-1957-logbooks_0134.JPG HTTP/1.1\\r\\nHost: catalog.archives.gov\\r\\nUser-Agent: python-requests/2.21.0\\r\\nAccept-Encoding: gzip, deflate\\r\\nAccept: */*\\r\\nConnection: keep-alive\\r\\n\\r\\n'\n"
     ]
    },
    {
     "name": "stderr",
     "output_type": "stream",
     "text": [
      "DEBUG:urllib3.connectionpool:https://catalog.archives.gov:443 \"GET /OpaAPI/media/38547962/content/dc-metro/rg-026/559642/2017-01/storis-wmec-38-1957-logbooks/storis-wmec-38-1957-logbooks_0134.JPG HTTP/1.1\" 200 None\n"
     ]
    },
    {
     "name": "stdout",
     "output_type": "stream",
     "text": [
      "reply: 'HTTP/1.1 200 OK\\r\\n'\n",
      "header: Access-Control-Allow-Credentials: true\n",
      "header: Access-Control-Allow-Methods: DELETE, HEAD, GET, OPTION, POST, PUT\n",
      "header: Access-Control-Expose-Headers: JSESSIONID\n",
      "header: Access-Control-Max-Age: 3600\n",
      "header: BALANCER_NAME: (null)\n",
      "header: BALANCER_ROUTE_CHANGED: 1\n",
      "header: BALANCER_SESSION_ROUTE: (null)\n",
      "header: BALANCER_SESSION_STICKY: (null)\n",
      "header: BALANCER_WORKER_NAME: ajp://pa02.aws.nac.nara.gov:8009/OpaAPI\n",
      "header: BALANCER_WORKER_ROUTE: pa02\n",
      "header: Cache-Control: no-store, no-cache\n",
      "header: Content-Type: image/jpeg;charset=UTF-8\n",
      "header: Date: Thu, 19 Dec 2019 20:29:04 GMT\n",
      "header: hnweb: pw03\n",
      "header: Pragma: no-cache\n",
      "header: Server: Apache/2.4.6 (Red Hat)\n",
      "header: Strict-Transport-Security: max-age=31536000; includeSubDomains; preload\n",
      "header: transfer-encoding: chunked\n",
      "header: Connection: keep-alive\n"
     ]
    },
    {
     "name": "stderr",
     "output_type": "stream",
     "text": [
      "DEBUG:urllib3.connectionpool:Starting new HTTPS connection (1): catalog.archives.gov:443\n"
     ]
    },
    {
     "name": "stdout",
     "output_type": "stream",
     "text": [
      "send: b'GET /OpaAPI/media/38547962/content/dc-metro/rg-026/559642/2017-01/storis-wmec-38-1957-logbooks/storis-wmec-38-1957-logbooks_0135.JPG HTTP/1.1\\r\\nHost: catalog.archives.gov\\r\\nUser-Agent: python-requests/2.21.0\\r\\nAccept-Encoding: gzip, deflate\\r\\nAccept: */*\\r\\nConnection: keep-alive\\r\\n\\r\\n'\n"
     ]
    },
    {
     "name": "stderr",
     "output_type": "stream",
     "text": [
      "DEBUG:urllib3.connectionpool:https://catalog.archives.gov:443 \"GET /OpaAPI/media/38547962/content/dc-metro/rg-026/559642/2017-01/storis-wmec-38-1957-logbooks/storis-wmec-38-1957-logbooks_0135.JPG HTTP/1.1\" 200 None\n"
     ]
    },
    {
     "name": "stdout",
     "output_type": "stream",
     "text": [
      "reply: 'HTTP/1.1 200 OK\\r\\n'\n",
      "header: Access-Control-Allow-Credentials: true\n",
      "header: Access-Control-Allow-Methods: DELETE, HEAD, GET, OPTION, POST, PUT\n",
      "header: Access-Control-Expose-Headers: JSESSIONID\n",
      "header: Access-Control-Max-Age: 3600\n",
      "header: BALANCER_NAME: (null)\n",
      "header: BALANCER_ROUTE_CHANGED: 1\n",
      "header: BALANCER_SESSION_ROUTE: (null)\n",
      "header: BALANCER_SESSION_STICKY: (null)\n",
      "header: BALANCER_WORKER_NAME: ajp://pa02.aws.nac.nara.gov:8009/OpaAPI\n",
      "header: BALANCER_WORKER_ROUTE: pa02\n",
      "header: Cache-Control: no-store, no-cache\n",
      "header: Content-Type: image/jpeg;charset=UTF-8\n",
      "header: Date: Thu, 19 Dec 2019 20:29:05 GMT\n",
      "header: hnweb: pw02\n",
      "header: Pragma: no-cache\n",
      "header: Server: Apache\n",
      "header: Strict-Transport-Security: max-age=31536000; includeSubDomains; preload\n",
      "header: transfer-encoding: chunked\n",
      "header: Connection: keep-alive\n"
     ]
    },
    {
     "name": "stderr",
     "output_type": "stream",
     "text": [
      "DEBUG:urllib3.connectionpool:Starting new HTTPS connection (1): catalog.archives.gov:443\n"
     ]
    },
    {
     "name": "stdout",
     "output_type": "stream",
     "text": [
      "send: b'GET /OpaAPI/media/38547962/content/dc-metro/rg-026/559642/2017-01/storis-wmec-38-1957-logbooks/storis-wmec-38-1957-logbooks_0136.JPG HTTP/1.1\\r\\nHost: catalog.archives.gov\\r\\nUser-Agent: python-requests/2.21.0\\r\\nAccept-Encoding: gzip, deflate\\r\\nAccept: */*\\r\\nConnection: keep-alive\\r\\n\\r\\n'\n"
     ]
    },
    {
     "name": "stderr",
     "output_type": "stream",
     "text": [
      "DEBUG:urllib3.connectionpool:https://catalog.archives.gov:443 \"GET /OpaAPI/media/38547962/content/dc-metro/rg-026/559642/2017-01/storis-wmec-38-1957-logbooks/storis-wmec-38-1957-logbooks_0136.JPG HTTP/1.1\" 200 None\n"
     ]
    },
    {
     "name": "stdout",
     "output_type": "stream",
     "text": [
      "reply: 'HTTP/1.1 200 OK\\r\\n'\n",
      "header: Access-Control-Allow-Credentials: true\n",
      "header: Access-Control-Allow-Methods: DELETE, HEAD, GET, OPTION, POST, PUT\n",
      "header: Access-Control-Expose-Headers: JSESSIONID\n",
      "header: Access-Control-Max-Age: 3600\n",
      "header: BALANCER_NAME: (null)\n",
      "header: BALANCER_ROUTE_CHANGED: 1\n",
      "header: BALANCER_SESSION_ROUTE: (null)\n",
      "header: BALANCER_SESSION_STICKY: (null)\n",
      "header: BALANCER_WORKER_NAME: ajp://pa02.aws.nac.nara.gov:8009/OpaAPI\n",
      "header: BALANCER_WORKER_ROUTE: pa02\n",
      "header: Cache-Control: no-store, no-cache\n",
      "header: Content-Type: image/jpeg;charset=UTF-8\n",
      "header: Date: Thu, 19 Dec 2019 20:29:07 GMT\n",
      "header: hnweb: pw04\n",
      "header: Pragma: no-cache\n",
      "header: Server: Apache\n",
      "header: Strict-Transport-Security: max-age=31536000; includeSubDomains; preload\n",
      "header: transfer-encoding: chunked\n",
      "header: Connection: keep-alive\n"
     ]
    },
    {
     "name": "stderr",
     "output_type": "stream",
     "text": [
      "DEBUG:urllib3.connectionpool:Starting new HTTPS connection (1): catalog.archives.gov:443\n"
     ]
    },
    {
     "name": "stdout",
     "output_type": "stream",
     "text": [
      "send: b'GET /OpaAPI/media/38547962/content/dc-metro/rg-026/559642/2017-01/storis-wmec-38-1957-logbooks/storis-wmec-38-1957-logbooks_0137.JPG HTTP/1.1\\r\\nHost: catalog.archives.gov\\r\\nUser-Agent: python-requests/2.21.0\\r\\nAccept-Encoding: gzip, deflate\\r\\nAccept: */*\\r\\nConnection: keep-alive\\r\\n\\r\\n'\n",
      "reply: 'HTTP/1.1 200 OK\\r\\n'\n",
      "header: Access-Control-Allow-Credentials: true\n",
      "header: Access-Control-Allow-Methods: DELETE, HEAD, GET, OPTION, POST, PUT\n",
      "header: Access-Control-Expose-Headers: JSESSIONID\n",
      "header: Access-Control-Max-Age: 3600\n",
      "header: BALANCER_NAME: (null)\n",
      "header: BALANCER_ROUTE_CHANGED: 1\n",
      "header: BALANCER_SESSION_ROUTE: (null)\n",
      "header: BALANCER_SESSION_STICKY: (null)\n",
      "header: BALANCER_WORKER_NAME: ajp://pa01.aws.nac.nara.gov:8009/OpaAPI\n",
      "header: BALANCER_WORKER_ROUTE: pa01\n",
      "header: Cache-Control: no-store, no-cache\n",
      "header: Content-Type:"
     ]
    },
    {
     "name": "stderr",
     "output_type": "stream",
     "text": [
      "DEBUG:urllib3.connectionpool:https://catalog.archives.gov:443 \"GET /OpaAPI/media/38547962/content/dc-metro/rg-026/559642/2017-01/storis-wmec-38-1957-logbooks/storis-wmec-38-1957-logbooks_0137.JPG HTTP/1.1\" 200 None\n",
      "DEBUG:urllib3.connectionpool:Starting new HTTPS connection (1): catalog.archives.gov:443\n"
     ]
    },
    {
     "name": "stdout",
     "output_type": "stream",
     "text": [
      " image/jpeg;charset=UTF-8\n",
      "header: Date: Thu, 19 Dec 2019 20:29:08 GMT\n",
      "header: hnweb: pw04\n",
      "header: Pragma: no-cache\n",
      "header: Server: Apache\n",
      "header: Strict-Transport-Security: max-age=31536000; includeSubDomains; preload\n",
      "header: transfer-encoding: chunked\n",
      "header: Connection: keep-alive\n",
      "send: b'GET /OpaAPI/media/38547962/content/dc-metro/rg-026/559642/2017-01/storis-wmec-38-1957-logbooks/storis-wmec-38-1957-logbooks_0138.JPG HTTP/1.1\\r\\nHost: catalog.archives.gov\\r\\nUser-Agent: python-requests/2.21.0\\r\\nAccept-Encoding: gzip, deflate\\r\\nAccept: */*\\r\\nConnection: keep-alive\\r\\n\\r\\n'\n"
     ]
    },
    {
     "name": "stderr",
     "output_type": "stream",
     "text": [
      "DEBUG:urllib3.connectionpool:https://catalog.archives.gov:443 \"GET /OpaAPI/media/38547962/content/dc-metro/rg-026/559642/2017-01/storis-wmec-38-1957-logbooks/storis-wmec-38-1957-logbooks_0138.JPG HTTP/1.1\" 200 None\n"
     ]
    },
    {
     "name": "stdout",
     "output_type": "stream",
     "text": [
      "reply: 'HTTP/1.1 200 OK\\r\\n'\n",
      "header: Access-Control-Allow-Credentials: true\n",
      "header: Access-Control-Allow-Methods: DELETE, HEAD, GET, OPTION, POST, PUT\n",
      "header: Access-Control-Expose-Headers: JSESSIONID\n",
      "header: Access-Control-Max-Age: 3600\n",
      "header: BALANCER_NAME: (null)\n",
      "header: BALANCER_ROUTE_CHANGED: 1\n",
      "header: BALANCER_SESSION_ROUTE: (null)\n",
      "header: BALANCER_SESSION_STICKY: (null)\n",
      "header: BALANCER_WORKER_NAME: ajp://pa01.aws.nac.nara.gov:8009/OpaAPI\n",
      "header: BALANCER_WORKER_ROUTE: pa01\n",
      "header: Cache-Control: no-store, no-cache\n",
      "header: Content-Type: image/jpeg;charset=UTF-8\n",
      "header: Date: Thu, 19 Dec 2019 20:29:10 GMT\n",
      "header: hnweb: pw04\n",
      "header: Pragma: no-cache\n",
      "header: Server: Apache\n",
      "header: Strict-Transport-Security: max-age=31536000; includeSubDomains; preload\n",
      "header: transfer-encoding: chunked\n",
      "header: Connection: keep-alive\n"
     ]
    },
    {
     "name": "stderr",
     "output_type": "stream",
     "text": [
      "DEBUG:urllib3.connectionpool:Starting new HTTPS connection (1): catalog.archives.gov:443\n"
     ]
    },
    {
     "name": "stdout",
     "output_type": "stream",
     "text": [
      "send: b'GET /OpaAPI/media/38547962/content/dc-metro/rg-026/559642/2017-01/storis-wmec-38-1957-logbooks/storis-wmec-38-1957-logbooks_0139.JPG HTTP/1.1\\r\\nHost: catalog.archives.gov\\r\\nUser-Agent: python-requests/2.21.0\\r\\nAccept-Encoding: gzip, deflate\\r\\nAccept: */*\\r\\nConnection: keep-alive\\r\\n\\r\\n'\n"
     ]
    },
    {
     "name": "stderr",
     "output_type": "stream",
     "text": [
      "DEBUG:urllib3.connectionpool:https://catalog.archives.gov:443 \"GET /OpaAPI/media/38547962/content/dc-metro/rg-026/559642/2017-01/storis-wmec-38-1957-logbooks/storis-wmec-38-1957-logbooks_0139.JPG HTTP/1.1\" 200 None\n"
     ]
    },
    {
     "name": "stdout",
     "output_type": "stream",
     "text": [
      "reply: 'HTTP/1.1 200 OK\\r\\n'\n",
      "header: Access-Control-Allow-Credentials: true\n",
      "header: Access-Control-Allow-Methods: DELETE, HEAD, GET, OPTION, POST, PUT\n",
      "header: Access-Control-Expose-Headers: JSESSIONID\n",
      "header: Access-Control-Max-Age: 3600\n",
      "header: BALANCER_NAME: (null)\n",
      "header: BALANCER_ROUTE_CHANGED: 1\n",
      "header: BALANCER_SESSION_ROUTE: (null)\n",
      "header: BALANCER_SESSION_STICKY: (null)\n",
      "header: BALANCER_WORKER_NAME: ajp://pa03.aws.nac.nara.gov:8009/OpaAPI\n",
      "header: BALANCER_WORKER_ROUTE: pa03\n",
      "header: Cache-Control: no-store, no-cache\n",
      "header: Content-Type: image/jpeg;charset=UTF-8\n",
      "header: Date: Thu, 19 Dec 2019 20:29:12 GMT\n",
      "header: hnweb: pw03\n",
      "header: Pragma: no-cache\n",
      "header: Server: Apache/2.4.6 (Red Hat)\n",
      "header: Strict-Transport-Security: max-age=31536000; includeSubDomains; preload\n",
      "header: transfer-encoding: chunked\n",
      "header: Connection: keep-alive\n"
     ]
    },
    {
     "name": "stderr",
     "output_type": "stream",
     "text": [
      "DEBUG:urllib3.connectionpool:Starting new HTTPS connection (1): catalog.archives.gov:443\n"
     ]
    },
    {
     "name": "stdout",
     "output_type": "stream",
     "text": [
      "send: b'GET /OpaAPI/media/38547962/content/dc-metro/rg-026/559642/2017-01/storis-wmec-38-1957-logbooks/storis-wmec-38-1957-logbooks_0140.JPG HTTP/1.1\\r\\nHost: catalog.archives.gov\\r\\nUser-Agent: python-requests/2.21.0\\r\\nAccept-Encoding: gzip, deflate\\r\\nAccept: */*\\r\\nConnection: keep-alive\\r\\n\\r\\n'\n"
     ]
    },
    {
     "name": "stderr",
     "output_type": "stream",
     "text": [
      "DEBUG:urllib3.connectionpool:https://catalog.archives.gov:443 \"GET /OpaAPI/media/38547962/content/dc-metro/rg-026/559642/2017-01/storis-wmec-38-1957-logbooks/storis-wmec-38-1957-logbooks_0140.JPG HTTP/1.1\" 200 None\n"
     ]
    },
    {
     "name": "stdout",
     "output_type": "stream",
     "text": [
      "reply: 'HTTP/1.1 200 OK\\r\\n'\n",
      "header: Access-Control-Allow-Credentials: true\n",
      "header: Access-Control-Allow-Methods: DELETE, HEAD, GET, OPTION, POST, PUT\n",
      "header: Access-Control-Expose-Headers: JSESSIONID\n",
      "header: Access-Control-Max-Age: 3600\n",
      "header: BALANCER_NAME: (null)\n",
      "header: BALANCER_ROUTE_CHANGED: 1\n",
      "header: BALANCER_SESSION_ROUTE: (null)\n",
      "header: BALANCER_SESSION_STICKY: (null)\n",
      "header: BALANCER_WORKER_NAME: ajp://pa04.aws.nac.nara.gov:8009/OpaAPI\n",
      "header: BALANCER_WORKER_ROUTE: pa04\n",
      "header: Cache-Control: no-store, no-cache\n",
      "header: Content-Type: image/jpeg;charset=UTF-8\n",
      "header: Date: Thu, 19 Dec 2019 20:29:13 GMT\n",
      "header: hnweb: pw01\n",
      "header: Pragma: no-cache\n",
      "header: Server: Apache/2.4.6 (Red Hat)\n",
      "header: Strict-Transport-Security: max-age=31536000; includeSubDomains; preload\n",
      "header: transfer-encoding: chunked\n",
      "header: Connection: keep-alive\n"
     ]
    },
    {
     "name": "stderr",
     "output_type": "stream",
     "text": [
      "DEBUG:urllib3.connectionpool:Starting new HTTPS connection (1): catalog.archives.gov:443\n"
     ]
    },
    {
     "name": "stdout",
     "output_type": "stream",
     "text": [
      "send: b'GET /OpaAPI/media/38547962/content/dc-metro/rg-026/559642/2017-01/storis-wmec-38-1957-logbooks/storis-wmec-38-1957-logbooks_0141.JPG HTTP/1.1\\r\\nHost: catalog.archives.gov\\r\\nUser-Agent: python-requests/2.21.0\\r\\nAccept-Encoding: gzip, deflate\\r\\nAccept: */*\\r\\nConnection: keep-alive\\r\\n\\r\\n'\n"
     ]
    },
    {
     "name": "stderr",
     "output_type": "stream",
     "text": [
      "DEBUG:urllib3.connectionpool:https://catalog.archives.gov:443 \"GET /OpaAPI/media/38547962/content/dc-metro/rg-026/559642/2017-01/storis-wmec-38-1957-logbooks/storis-wmec-38-1957-logbooks_0141.JPG HTTP/1.1\" 200 None\n"
     ]
    },
    {
     "name": "stdout",
     "output_type": "stream",
     "text": [
      "reply: 'HTTP/1.1 200 OK\\r\\n'\n",
      "header: Access-Control-Allow-Credentials: true\n",
      "header: Access-Control-Allow-Methods: DELETE, HEAD, GET, OPTION, POST, PUT\n",
      "header: Access-Control-Expose-Headers: JSESSIONID\n",
      "header: Access-Control-Max-Age: 3600\n",
      "header: BALANCER_NAME: (null)\n",
      "header: BALANCER_ROUTE_CHANGED: 1\n",
      "header: BALANCER_SESSION_ROUTE: (null)\n",
      "header: BALANCER_SESSION_STICKY: (null)\n",
      "header: BALANCER_WORKER_NAME: ajp://pa04.aws.nac.nara.gov:8009/OpaAPI\n",
      "header: BALANCER_WORKER_ROUTE: pa04\n",
      "header: Cache-Control: no-store, no-cache\n",
      "header: Content-Type: image/jpeg;charset=UTF-8\n",
      "header: Date: Thu, 19 Dec 2019 20:29:15 GMT\n",
      "header: hnweb: pw01\n",
      "header: Pragma: no-cache\n",
      "header: Server: Apache/2.4.6 (Red Hat)\n",
      "header: Strict-Transport-Security: max-age=31536000; includeSubDomains; preload\n",
      "header: transfer-encoding: chunked\n",
      "header: Connection: keep-alive\n"
     ]
    },
    {
     "name": "stderr",
     "output_type": "stream",
     "text": [
      "DEBUG:urllib3.connectionpool:Starting new HTTPS connection (1): catalog.archives.gov:443\n"
     ]
    },
    {
     "name": "stdout",
     "output_type": "stream",
     "text": [
      "send: b'GET /OpaAPI/media/38547962/content/dc-metro/rg-026/559642/2017-01/storis-wmec-38-1957-logbooks/storis-wmec-38-1957-logbooks_0142.JPG HTTP/1.1\\r\\nHost: catalog.archives.gov\\r\\nUser-Agent: python-requests/2.21.0\\r\\nAccept-Encoding: gzip, deflate\\r\\nAccept: */*\\r\\nConnection: keep-alive\\r\\n\\r\\n'\n"
     ]
    },
    {
     "name": "stderr",
     "output_type": "stream",
     "text": [
      "DEBUG:urllib3.connectionpool:https://catalog.archives.gov:443 \"GET /OpaAPI/media/38547962/content/dc-metro/rg-026/559642/2017-01/storis-wmec-38-1957-logbooks/storis-wmec-38-1957-logbooks_0142.JPG HTTP/1.1\" 200 None\n"
     ]
    },
    {
     "name": "stdout",
     "output_type": "stream",
     "text": [
      "reply: 'HTTP/1.1 200 OK\\r\\n'\n",
      "header: Access-Control-Allow-Credentials: true\n",
      "header: Access-Control-Allow-Methods: DELETE, HEAD, GET, OPTION, POST, PUT\n",
      "header: Access-Control-Expose-Headers: JSESSIONID\n",
      "header: Access-Control-Max-Age: 3600\n",
      "header: BALANCER_NAME: (null)\n",
      "header: BALANCER_ROUTE_CHANGED: 1\n",
      "header: BALANCER_SESSION_ROUTE: (null)\n",
      "header: BALANCER_SESSION_STICKY: (null)\n",
      "header: BALANCER_WORKER_NAME: ajp://pa04.aws.nac.nara.gov:8009/OpaAPI\n",
      "header: BALANCER_WORKER_ROUTE: pa04\n",
      "header: Cache-Control: no-store, no-cache\n",
      "header: Content-Type: image/jpeg;charset=UTF-8\n",
      "header: Date: Thu, 19 Dec 2019 20:29:17 GMT\n",
      "header: hnweb: pw01\n",
      "header: Pragma: no-cache\n",
      "header: Server: Apache/2.4.6 (Red Hat)\n",
      "header: Strict-Transport-Security: max-age=31536000; includeSubDomains; preload\n",
      "header: transfer-encoding: chunked\n",
      "header: Connection: keep-alive\n"
     ]
    },
    {
     "name": "stderr",
     "output_type": "stream",
     "text": [
      "DEBUG:urllib3.connectionpool:Starting new HTTPS connection (1): catalog.archives.gov:443\n"
     ]
    },
    {
     "name": "stdout",
     "output_type": "stream",
     "text": [
      "send: b'GET /OpaAPI/media/38547962/content/dc-metro/rg-026/559642/2017-01/storis-wmec-38-1957-logbooks/storis-wmec-38-1957-logbooks_0143.JPG HTTP/1.1\\r\\nHost: catalog.archives.gov\\r\\nUser-Agent: python-requests/2.21.0\\r\\nAccept-Encoding: gzip, deflate\\r\\nAccept: */*\\r\\nConnection: keep-alive\\r\\n\\r\\n'\n"
     ]
    },
    {
     "name": "stderr",
     "output_type": "stream",
     "text": [
      "DEBUG:urllib3.connectionpool:https://catalog.archives.gov:443 \"GET /OpaAPI/media/38547962/content/dc-metro/rg-026/559642/2017-01/storis-wmec-38-1957-logbooks/storis-wmec-38-1957-logbooks_0143.JPG HTTP/1.1\" 200 None\n"
     ]
    },
    {
     "name": "stdout",
     "output_type": "stream",
     "text": [
      "reply: 'HTTP/1.1 200 OK\\r\\n'\n",
      "header: Access-Control-Allow-Credentials: true\n",
      "header: Access-Control-Allow-Methods: DELETE, HEAD, GET, OPTION, POST, PUT\n",
      "header: Access-Control-Expose-Headers: JSESSIONID\n",
      "header: Access-Control-Max-Age: 3600\n",
      "header: BALANCER_NAME: (null)\n",
      "header: BALANCER_ROUTE_CHANGED: 1\n",
      "header: BALANCER_SESSION_ROUTE: (null)\n",
      "header: BALANCER_SESSION_STICKY: (null)\n",
      "header: BALANCER_WORKER_NAME: ajp://pa04.aws.nac.nara.gov:8009/OpaAPI\n",
      "header: BALANCER_WORKER_ROUTE: pa04\n",
      "header: Cache-Control: no-store, no-cache\n",
      "header: Content-Type: image/jpeg;charset=UTF-8\n",
      "header: Date: Thu, 19 Dec 2019 20:29:18 GMT\n",
      "header: hnweb: pw02\n",
      "header: Pragma: no-cache\n",
      "header: Server: Apache\n",
      "header: Strict-Transport-Security: max-age=31536000; includeSubDomains; preload\n",
      "header: transfer-encoding: chunked\n",
      "header: Connection: keep-alive\n"
     ]
    },
    {
     "name": "stderr",
     "output_type": "stream",
     "text": [
      "DEBUG:urllib3.connectionpool:Starting new HTTPS connection (1): catalog.archives.gov:443\n"
     ]
    },
    {
     "name": "stdout",
     "output_type": "stream",
     "text": [
      "send: b'GET /OpaAPI/media/38547962/content/dc-metro/rg-026/559642/2017-01/storis-wmec-38-1957-logbooks/storis-wmec-38-1957-logbooks_0144.JPG HTTP/1.1\\r\\nHost: catalog.archives.gov\\r\\nUser-Agent: python-requests/2.21.0\\r\\nAccept-Encoding: gzip, deflate\\r\\nAccept: */*\\r\\nConnection: keep-alive\\r\\n\\r\\n'\n"
     ]
    },
    {
     "name": "stderr",
     "output_type": "stream",
     "text": [
      "DEBUG:urllib3.connectionpool:https://catalog.archives.gov:443 \"GET /OpaAPI/media/38547962/content/dc-metro/rg-026/559642/2017-01/storis-wmec-38-1957-logbooks/storis-wmec-38-1957-logbooks_0144.JPG HTTP/1.1\" 200 None\n"
     ]
    },
    {
     "name": "stdout",
     "output_type": "stream",
     "text": [
      "reply: 'HTTP/1.1 200 OK\\r\\n'\n",
      "header: Access-Control-Allow-Credentials: true\n",
      "header: Access-Control-Allow-Methods: DELETE, HEAD, GET, OPTION, POST, PUT\n",
      "header: Access-Control-Expose-Headers: JSESSIONID\n",
      "header: Access-Control-Max-Age: 3600\n",
      "header: BALANCER_NAME: (null)\n",
      "header: BALANCER_ROUTE_CHANGED: 1\n",
      "header: BALANCER_SESSION_ROUTE: (null)\n",
      "header: BALANCER_SESSION_STICKY: (null)\n",
      "header: BALANCER_WORKER_NAME: ajp://pa01.aws.nac.nara.gov:8009/OpaAPI\n",
      "header: BALANCER_WORKER_ROUTE: pa01\n",
      "header: Cache-Control: no-store, no-cache\n",
      "header: Content-Type: image/jpeg;charset=UTF-8\n",
      "header: Date: Thu, 19 Dec 2019 20:29:20 GMT\n",
      "header: hnweb: pw04\n",
      "header: Pragma: no-cache\n",
      "header: Server: Apache\n",
      "header: Strict-Transport-Security: max-age=31536000; includeSubDomains; preload\n",
      "header: transfer-encoding: chunked\n",
      "header: Connection: keep-alive\n"
     ]
    },
    {
     "name": "stderr",
     "output_type": "stream",
     "text": [
      "DEBUG:urllib3.connectionpool:Starting new HTTPS connection (1): catalog.archives.gov:443\n"
     ]
    },
    {
     "name": "stdout",
     "output_type": "stream",
     "text": [
      "send: b'GET /OpaAPI/media/38547962/content/dc-metro/rg-026/559642/2017-01/storis-wmec-38-1957-logbooks/storis-wmec-38-1957-logbooks_0145.JPG HTTP/1.1\\r\\nHost: catalog.archives.gov\\r\\nUser-Agent: python-requests/2.21.0\\r\\nAccept-Encoding: gzip, deflate\\r\\nAccept: */*\\r\\nConnection: keep-alive\\r\\n\\r\\n'\n"
     ]
    },
    {
     "name": "stderr",
     "output_type": "stream",
     "text": [
      "DEBUG:urllib3.connectionpool:https://catalog.archives.gov:443 \"GET /OpaAPI/media/38547962/content/dc-metro/rg-026/559642/2017-01/storis-wmec-38-1957-logbooks/storis-wmec-38-1957-logbooks_0145.JPG HTTP/1.1\" 200 None\n"
     ]
    },
    {
     "name": "stdout",
     "output_type": "stream",
     "text": [
      "reply: 'HTTP/1.1 200 OK\\r\\n'\n",
      "header: Access-Control-Allow-Credentials: true\n",
      "header: Access-Control-Allow-Methods: DELETE, HEAD, GET, OPTION, POST, PUT\n",
      "header: Access-Control-Expose-Headers: JSESSIONID\n",
      "header: Access-Control-Max-Age: 3600\n",
      "header: BALANCER_NAME: (null)\n",
      "header: BALANCER_ROUTE_CHANGED: 1\n",
      "header: BALANCER_SESSION_ROUTE: (null)\n",
      "header: BALANCER_SESSION_STICKY: (null)\n",
      "header: BALANCER_WORKER_NAME: ajp://pa04.aws.nac.nara.gov:8009/OpaAPI\n",
      "header: BALANCER_WORKER_ROUTE: pa04\n",
      "header: Cache-Control: no-store, no-cache\n",
      "header: Content-Type: image/jpeg;charset=UTF-8\n",
      "header: Date: Thu, 19 Dec 2019 20:29:22 GMT\n",
      "header: hnweb: pw04\n",
      "header: Pragma: no-cache\n",
      "header: Server: Apache\n",
      "header: Strict-Transport-Security: max-age=31536000; includeSubDomains; preload\n",
      "header: transfer-encoding: chunked\n",
      "header: Connection: keep-alive\n"
     ]
    }
   ],
   "source": [
    "import requests\n",
    "import logging\n",
    "import http.client\n",
    "\n",
    "# To set up logging.\n",
    "# https://stackoverflow.com/questions/16337511/\n",
    "http.client.HTTPConnection.debuglevel = 1\n",
    "logging.basicConfig()\n",
    "logging.getLogger().setLevel(logging.DEBUG)\n",
    "requests_log = logging.getLogger(\"requests.packages.urllib3\")\n",
    "requests_log.setLevel(logging.DEBUG)\n",
    "requests_log.propagate = True\n",
    "\n",
    "# To access the NARA API for images of the USCG Storis' 1957 logbook.\n",
    "nara_id = \"38547962\"\n",
    "api_base = 'https://catalog.archives.gov/api/v1/'\n",
    "api_url = '{0}?naIds={1}'.format(api_base, nara_id)\n",
    "res = requests.get(api_url)\n",
    "\n",
    "# To parse the NARA API output for metadata.\n",
    "entry_img_array = res.json().get('opaResponse').get('results').get('result')[0].get('objects').get('object')\n",
    "digital_directory = entry_img_array[0].get('file').get('@path').split(\"/\")[-2]\n",
    "\n",
    "# To write the NARA API output to file for reference.\n",
    "api_output = \"{0}/nara_id_{1}.json\".format(data, digital_directory, nara_id)\n",
    "if res.status_code == 200:\n",
    "    with open(api_output, 'wb') as f:\n",
    "        f.write(res.content)\n",
    "\n",
    "# To download images of 40 pages of the Storis' logbooks.\n",
    "for img_info in entry_img_array: \n",
    "\n",
    "    # We test for mimetype \"image/jpeg\"---we don't want to download any files\n",
    "    # with mimetype \"application/pdf\".\n",
    "    if img_info.get('file').get('@mime') == \"image/jpeg\":\n",
    "\n",
    "        img_name = img_info.get('file').get('@name')\n",
    "        img_url = img_info.get('file').get('@url')\n",
    "        img_res = requests.get(img_url)\n",
    "\n",
    "        # To write a single image to file.\n",
    "        local_img_name = \"{0}/{1}\".format(data, img_name)\n",
    "        if img_res.status_code == 200:\n",
    "            with open(local_img_name, 'wb') as img_f:\n",
    "                img_f.write(img_res.content)"
   ]
  },
  {
   "cell_type": "markdown",
   "metadata": {},
   "source": [
    "Let's write a metadata tagfile in the \"data\" subdirectory with the minimal required metadata for the sample of images."
   ]
  },
  {
   "cell_type": "code",
   "execution_count": 52,
   "metadata": {
    "attributes": {
     "classes": [],
     "id": "",
     "n": "9"
    }
   },
   "outputs": [],
   "source": [
    "import csv\n",
    "\n",
    "with open(os.path.join(data, 'metadata.csv'), mode='w') as metadata_file:\n",
    "    metadata_writer = csv.writer(metadata_file, delimiter=',', quotechar='\"', quoting=csv.QUOTE_MINIMAL)\n",
    "    \n",
    "    metadata_writer.writerow(['archive.host_country', 'USA'])\n",
    "    metadata_writer.writerow(['document.contact_person', 'Kevin Wood'])\n",
    "    metadata_writer.writerow(['archive.notes', 'Images available via API at https://catalog.archives.gov/api/v1/38547962'])\n",
    "    metadata_writer.writerow(['platform.name', 'USCG Storis'])\n",
    "    metadata_writer.writerow(['document.id_within_archive', '38547962'])\n",
    "    metadata_writer.writerow(['document.id_within_archive_type', 'NARA ID'])\n",
    "    metadata_writer.writerow(['document.record_type', \"ships' logs\"])\n",
    "    metadata_writer.writerow(['document.accession_to_archive_date', '2016-08-19'])\n",
    "    metadata_writer.writerow(['document.standardized_region_list', 'north_atlantic'])\n",
    "    metadata_writer.writerow(['document.start_date', '1957-06-09'])\n",
    "    metadata_writer.writerow(['document.start_date', '1957-09-30'])\n",
    "    metadata_writer.writerow(['document.rights_statement', 'CC0 Public Domain'])\n",
    "    metadata_writer.writerow(['document.notes', ''])"
   ]
  },
  {
   "cell_type": "markdown",
   "metadata": {},
   "source": [
    "During ingest we'll associate the above metadata to the 20 samples images. In practice, any `.csv` file in the `data` subdirectory will be parsed as a metadata tagefile. For example, the tagfile `metadata.csv` provides metadata for images in the same directory `uscg-storis/data` as itself and in all subdirectory below itself. \n",
    "\n",
    "To enable users to provide \"hierarchical\" metadata, the information in a tagfile from a subdirectory has precendence over any tagfiles from parent directories. (The idea is to provide the *most specific metadata* for images in the same directory as the images themselves, while parent directories might provide *general metadata* for a whole collection of images.)\n",
    "\n",
    "Here's what the tagfile we created looks like."
   ]
  },
  {
   "cell_type": "code",
   "execution_count": 53,
   "metadata": {},
   "outputs": [
    {
     "data": {
      "text/html": [
       "<div>\n",
       "<style scoped>\n",
       "    .dataframe tbody tr th:only-of-type {\n",
       "        vertical-align: middle;\n",
       "    }\n",
       "\n",
       "    .dataframe tbody tr th {\n",
       "        vertical-align: top;\n",
       "    }\n",
       "\n",
       "    .dataframe thead th {\n",
       "        text-align: right;\n",
       "    }\n",
       "</style>\n",
       "<table border=\"1\" class=\"dataframe\">\n",
       "  <thead>\n",
       "    <tr style=\"text-align: right;\">\n",
       "      <th></th>\n",
       "      <th>field</th>\n",
       "      <th>value</th>\n",
       "    </tr>\n",
       "  </thead>\n",
       "  <tbody>\n",
       "    <tr>\n",
       "      <th>0</th>\n",
       "      <td>archive.host_country</td>\n",
       "      <td>USA</td>\n",
       "    </tr>\n",
       "    <tr>\n",
       "      <th>1</th>\n",
       "      <td>document.contact_person</td>\n",
       "      <td>Kevin Wood</td>\n",
       "    </tr>\n",
       "    <tr>\n",
       "      <th>2</th>\n",
       "      <td>archive.notes</td>\n",
       "      <td>Images available via API at https://catalog.ar...</td>\n",
       "    </tr>\n",
       "    <tr>\n",
       "      <th>3</th>\n",
       "      <td>platform.name</td>\n",
       "      <td>USCG Storis</td>\n",
       "    </tr>\n",
       "    <tr>\n",
       "      <th>4</th>\n",
       "      <td>document.id_within_archive</td>\n",
       "      <td>38547962</td>\n",
       "    </tr>\n",
       "    <tr>\n",
       "      <th>5</th>\n",
       "      <td>document.id_within_archive_type</td>\n",
       "      <td>NARA ID</td>\n",
       "    </tr>\n",
       "    <tr>\n",
       "      <th>6</th>\n",
       "      <td>document.record_type</td>\n",
       "      <td>ships' logs</td>\n",
       "    </tr>\n",
       "    <tr>\n",
       "      <th>7</th>\n",
       "      <td>document.accession_to_archive_date</td>\n",
       "      <td>2016-08-19</td>\n",
       "    </tr>\n",
       "    <tr>\n",
       "      <th>8</th>\n",
       "      <td>document.standardized_region_list</td>\n",
       "      <td>north_atlantic</td>\n",
       "    </tr>\n",
       "    <tr>\n",
       "      <th>9</th>\n",
       "      <td>document.start_date</td>\n",
       "      <td>1957-06-09</td>\n",
       "    </tr>\n",
       "    <tr>\n",
       "      <th>10</th>\n",
       "      <td>document.start_date</td>\n",
       "      <td>1957-09-30</td>\n",
       "    </tr>\n",
       "    <tr>\n",
       "      <th>11</th>\n",
       "      <td>document.rights_statement</td>\n",
       "      <td>CC0 Public Domain</td>\n",
       "    </tr>\n",
       "    <tr>\n",
       "      <th>12</th>\n",
       "      <td>document.notes</td>\n",
       "      <td>NaN</td>\n",
       "    </tr>\n",
       "  </tbody>\n",
       "</table>\n",
       "</div>"
      ],
      "text/plain": [
       "                                 field  \\\n",
       "0                 archive.host_country   \n",
       "1              document.contact_person   \n",
       "2                        archive.notes   \n",
       "3                        platform.name   \n",
       "4           document.id_within_archive   \n",
       "5      document.id_within_archive_type   \n",
       "6                 document.record_type   \n",
       "7   document.accession_to_archive_date   \n",
       "8    document.standardized_region_list   \n",
       "9                  document.start_date   \n",
       "10                 document.start_date   \n",
       "11           document.rights_statement   \n",
       "12                      document.notes   \n",
       "\n",
       "                                                value  \n",
       "0                                                 USA  \n",
       "1                                          Kevin Wood  \n",
       "2   Images available via API at https://catalog.ar...  \n",
       "3                                         USCG Storis  \n",
       "4                                            38547962  \n",
       "5                                             NARA ID  \n",
       "6                                         ships' logs  \n",
       "7                                          2016-08-19  \n",
       "8                                      north_atlantic  \n",
       "9                                          1957-06-09  \n",
       "10                                         1957-09-30  \n",
       "11                                  CC0 Public Domain  \n",
       "12                                                NaN  "
      ]
     },
     "execution_count": 53,
     "metadata": {},
     "output_type": "execute_result"
    }
   ],
   "source": [
    "import pandas as pd\n",
    "df = pd.read_csv(os.path.join(data, \"metadata.csv\"), header=None, names=[\"field\", \"value\"])\n",
    "df"
   ]
  },
  {
   "cell_type": "markdown",
   "metadata": {},
   "source": [
    "## Ingesting images"
   ]
  },
  {
   "cell_type": "markdown",
   "metadata": {},
   "source": [
    "First, we'll interactively load \"helper\" functions as defined in the `rdai` module. "
   ]
  },
  {
   "cell_type": "code",
   "execution_count": 57,
   "metadata": {
    "attributes": {
     "classes": [],
     "id": "",
     "n": "2"
    }
   },
   "outputs": [],
   "source": [
    "%run -i rdai"
   ]
  },
  {
   "cell_type": "markdown",
   "metadata": {},
   "source": [
    "Now, we'll define the global variable `fixed_seq` in order to call `mint_uuid` for each image file."
   ]
  },
  {
   "cell_type": "code",
   "execution_count": 55,
   "metadata": {
    "attributes": {
     "classes": [],
     "id": "",
     "n": "2"
    }
   },
   "outputs": [],
   "source": [
    "# We generate a fixed sequence for uuids.\n",
    "get_fixed_seq()"
   ]
  },
  {
   "cell_type": "markdown",
   "metadata": {},
   "source": [
    "If we're on casper, then we'll need to load python-magic from `rdadata`. Else, we assume the python-magic package has already been installed, e.g., with `pip3 install python-magic --user`."
   ]
  },
  {
   "cell_type": "code",
   "execution_count": 58,
   "metadata": {},
   "outputs": [],
   "source": [
    "import sys\n",
    "sys.path.append('/glade/u/home/rdadata/lib/python/site-packages')"
   ]
  },
  {
   "cell_type": "code",
   "execution_count": 66,
   "metadata": {},
   "outputs": [],
   "source": [
    "# get_exiftool()\n",
    "import subprocess\n",
    "repo_dir = subprocess.Popen(['git', 'rev-parse', '--show-toplevel'], stdout=subprocess.PIPE).communicate()[0].rstrip().decode('utf-8')\n",
    "import sys\n",
    "os.path.join(repo_dir, \"dependencies/pyexiftool\")\n",
    "import exiftool"
   ]
  },
  {
   "cell_type": "code",
   "execution_count": 67,
   "metadata": {
    "attributes": {
     "classes": [],
     "id": "",
     "n": "13"
    }
   },
   "outputs": [
    {
     "name": "stdout",
     "output_type": "stream",
     "text": [
      "RDAI: Tag EXIF:ImageUniqueID=07e153ae22a311eab39ff33270d5ee9b already exists in file uscg-storis/data/storis-wmec-38-1957-logbooks_0126.JPG.\n",
      "RDAI: Tag EXIF:ImageUniqueID=080e771a22a311eab39ff33270d5ee9b already exists in file uscg-storis/data/storis-wmec-38-1957-logbooks_0127.JPG.\n",
      "RDAI: Tag EXIF:ImageUniqueID=083d8de822a311eab39ff33270d5ee9b already exists in file uscg-storis/data/storis-wmec-38-1957-logbooks_0128.JPG.\n",
      "RDAI: Tag EXIF:ImageUniqueID=086d96a622a311eab39ff33270d5ee9b already exists in file uscg-storis/data/storis-wmec-38-1957-logbooks_0129.JPG.\n",
      "RDAI: Tag EXIF:ImageUniqueID=089ce00a22a311eab39ff33270d5ee9b already exists in file uscg-storis/data/storis-wmec-38-1957-logbooks_0130.JPG.\n",
      "RDAI: Tag EXIF:ImageUniqueID=08cab56222a311eab39ff33270d5ee9b already exists in file uscg-storis/data/storis-wmec-38-1957-logbooks_0131.JPG.\n",
      "RDAI: Tag EXIF:ImageUniqueID=08f9289222a311eab39ff33270d5ee9b already exists in file uscg-storis/data/storis-wmec-38-1957-logbooks_0132.JPG.\n",
      "RDAI: Tag EXIF:ImageUniqueID=0927ac2422a311eab39ff33270d5ee9b already exists in file uscg-storis/data/storis-wmec-38-1957-logbooks_0133.JPG.\n",
      "RDAI: Tag EXIF:ImageUniqueID=0955517022a311eab39ff33270d5ee9b already exists in file uscg-storis/data/storis-wmec-38-1957-logbooks_0134.JPG.\n",
      "RDAI: Tag EXIF:ImageUniqueID=0982e81422a311eab39ff33270d5ee9b already exists in file uscg-storis/data/storis-wmec-38-1957-logbooks_0135.JPG.\n",
      "RDAI: Tag EXIF:ImageUniqueID=09b093f622a311eab39ff33270d5ee9b already exists in file uscg-storis/data/storis-wmec-38-1957-logbooks_0136.JPG.\n",
      "RDAI: Tag EXIF:ImageUniqueID=09de5d2e22a311eab39ff33270d5ee9b already exists in file uscg-storis/data/storis-wmec-38-1957-logbooks_0137.JPG.\n",
      "RDAI: Tag EXIF:ImageUniqueID=0a0c0efe22a311eab39ff33270d5ee9b already exists in file uscg-storis/data/storis-wmec-38-1957-logbooks_0138.JPG.\n",
      "RDAI: Tag EXIF:ImageUniqueID=0a3ac61222a311eab39ff33270d5ee9b already exists in file uscg-storis/data/storis-wmec-38-1957-logbooks_0139.JPG.\n",
      "RDAI: Tag EXIF:ImageUniqueID=0a69375e22a311eab39ff33270d5ee9b already exists in file uscg-storis/data/storis-wmec-38-1957-logbooks_0140.JPG.\n",
      "RDAI: Tag EXIF:ImageUniqueID=0a96926e22a311eab39ff33270d5ee9b already exists in file uscg-storis/data/storis-wmec-38-1957-logbooks_0141.JPG.\n",
      "RDAI: Tag EXIF:ImageUniqueID=0ac471a422a311eab39ff33270d5ee9b already exists in file uscg-storis/data/storis-wmec-38-1957-logbooks_0142.JPG.\n",
      "RDAI: Tag EXIF:ImageUniqueID=0af2d61022a311eab39ff33270d5ee9b already exists in file uscg-storis/data/storis-wmec-38-1957-logbooks_0143.JPG.\n",
      "RDAI: Tag EXIF:ImageUniqueID=0b20b45c22a311eab39ff33270d5ee9b already exists in file uscg-storis/data/storis-wmec-38-1957-logbooks_0144.JPG.\n",
      "RDAI: Tag EXIF:ImageUniqueID=0b4f3f8022a311eab39ff33270d5ee9b already exists in file uscg-storis/data/storis-wmec-38-1957-logbooks_0145.JPG.\n"
     ]
    }
   ],
   "source": [
    "normalized_catalog = get_normalized_catalog(data)\n",
    "# We generate a metadata catalog (unnormalized) from the data directory.\n",
    "\n",
    "catalog = unnormalize_catalog(normalized_catalog)\n",
    "# We flatten the normalized catalog. \n",
    "# Each file in the data directory \"has its own entry\" in this catalog.\n",
    "# We'll eventually ignore non-image files.\n",
    "\n",
    "write_timestamped_catalog(catalog, out)\n",
    "# We write this version of the metadata catalog to the output directory."
   ]
  },
  {
   "cell_type": "code",
   "execution_count": 68,
   "metadata": {
    "attributes": {
     "classes": [],
     "id": "",
     "n": "14"
    }
   },
   "outputs": [],
   "source": [
    "catalog = read_timestamped_catalog(out)\n",
    "# We read in the most recent version of the metadata catalog from the out directory.\n",
    "\n",
    "elementary_family = [c for c in catalog if c['media_type'].startswith(\"image\")]\n",
    "# We create a list of all the entries in the catalog that are image files."
   ]
  },
  {
   "cell_type": "code",
   "execution_count": 69,
   "metadata": {
    "attributes": {
     "classes": [],
     "id": "",
     "n": "17"
    }
   },
   "outputs": [],
   "source": [
    "import os\n",
    "# We'll perform some file renames between the data directory and the out directory.\n",
    "\n",
    "# We move all the images in the catalog to the output directory.\n",
    "for member in elementary_family:\n",
    "    os.rename(member['file_path'], os.path.join(out, member['uuid']))"
   ]
  },
  {
   "cell_type": "code",
   "execution_count": 74,
   "metadata": {},
   "outputs": [
    {
     "ename": "FileNotFoundError",
     "evalue": "[Errno 2] No such file or directory: 'uscg-storis/out'",
     "output_type": "error",
     "traceback": [
      "\u001b[0;31m---------------------------------------------------------------------------\u001b[0m",
      "\u001b[0;31mFileNotFoundError\u001b[0m                         Traceback (most recent call last)",
      "\u001b[0;32m~/fy/20/ncar/rdai/rdai\u001b[0m in \u001b[0;36m<module>\u001b[0;34m\u001b[0m\n\u001b[0;32m----> 1\u001b[0;31m \u001b[0mos\u001b[0m\u001b[0;34m.\u001b[0m\u001b[0mlistdir\u001b[0m\u001b[0;34m(\u001b[0m\u001b[0mout\u001b[0m\u001b[0;34m)\u001b[0m\u001b[0;34m\u001b[0m\u001b[0;34m\u001b[0m\u001b[0m\n\u001b[0m",
      "\u001b[0;31mFileNotFoundError\u001b[0m: [Errno 2] No such file or directory: 'uscg-storis/out'"
     ]
    }
   ],
   "source": [
    "os.listdir(out)"
   ]
  },
  {
   "cell_type": "code",
   "execution_count": 71,
   "metadata": {
    "attributes": {
     "classes": [],
     "id": "",
     "n": "18"
    }
   },
   "outputs": [],
   "source": [
    "# Conversely, we move all the images in the catalog back to the data directory.\n",
    "for member in elementary_family:\n",
    "    os.rename(os.path.join(out, member['uuid']), member['file_path'])"
   ]
  },
  {
   "cell_type": "code",
   "execution_count": 72,
   "metadata": {},
   "outputs": [],
   "source": [
    "!rm -rf uscg-storis/"
   ]
  }
 ],
 "metadata": {
  "kernelspec": {
   "display_name": "Python 3",
   "language": "python",
   "name": "python3"
  },
  "language_info": {
   "codemirror_mode": {
    "name": "ipython",
    "version": 3
   },
   "file_extension": ".py",
   "mimetype": "text/x-python",
   "name": "python",
   "nbconvert_exporter": "python",
   "pygments_lexer": "ipython3",
   "version": "3.7.3"
  }
 },
 "nbformat": 4,
 "nbformat_minor": 2
}
